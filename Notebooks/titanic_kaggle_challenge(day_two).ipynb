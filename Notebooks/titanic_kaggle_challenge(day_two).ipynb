{
  "nbformat": 4,
  "nbformat_minor": 0,
  "metadata": {
    "colab": {
      "name": "Copy of titanic-kaggle-challenge(day two).ipynb",
      "provenance": []
    },
    "kernelspec": {
      "name": "python3",
      "display_name": "Python 3"
    },
    "language_info": {
      "name": "python"
    }
  },
  "cells": [
    {
      "cell_type": "markdown",
      "metadata": {
        "id": "dWkCAhMuvq1x"
      },
      "source": [
        "Well turns out that i'm just dumb and i was doing about everything wrong since the data was not intended to be used in the way i was using it.\n",
        "Lets try and do better this time :)"
      ]
    },
    {
      "cell_type": "code",
      "metadata": {
        "id": "GkuK0rhhrDGI"
      },
      "source": [
        "import pandas as pd\n",
        "import numpy as np\n",
        "from sklearn.model_selection import train_test_split\n",
        "from sklearn.ensemble import RandomForestClassifier\n",
        "from sklearn.metrics import accuracy_score, classification_report, confusion_matrix\n",
        "import matplotlib.pyplot as plt"
      ],
      "execution_count": 164,
      "outputs": []
    },
    {
      "cell_type": "code",
      "metadata": {
        "colab": {
          "base_uri": "https://localhost:8080/"
        },
        "id": "pwW3L3LiwthY",
        "outputId": "ea9a2fad-e09d-4117-a3ec-009deeb5c440"
      },
      "source": [
        "df_train = pd.read_csv('train.csv')\n",
        "df_test = pd.read_csv('test.csv')\n",
        "test_ids = df_test['PassengerId']\n",
        "\n",
        "def clean(data):\n",
        "    data = data.drop([\"Ticket\", \"PassengerId\", \"Name\", \"Cabin\"], axis=1)\n",
        "    \n",
        "    cols = [\"SibSp\", \"Parch\", \"Fare\", \"Age\"]\n",
        "    for col in cols:\n",
        "        data[col].fillna(data[col].median(), inplace=True)\n",
        "        \n",
        "    data.Embarked.fillna(\"U\", inplace=True)\n",
        "    return data\n",
        "\n",
        "df_train = clean(df_train)\n",
        "df_test = clean(df_test)\n",
        "print(len(df_test),len(df_train))"
      ],
      "execution_count": 165,
      "outputs": [
        {
          "output_type": "stream",
          "text": [
            "418 891\n"
          ],
          "name": "stdout"
        }
      ]
    },
    {
      "cell_type": "code",
      "metadata": {
        "id": "nFLrgfKOxBZ1"
      },
      "source": [
        "df_train['Embarked'] = np.where(df_train['Embarked'].values == 'C',0,\n",
        "                                (np.where( df_train['Embarked'].values == 'Q',1, 2)))\n",
        "df_train['Sex'] = np.where(df_train['Sex'].values == 'male',1,0) \n",
        "\n",
        "df_test['Embarked'] = np.where(df_test['Embarked'].values == 'C',0,\n",
        "                                (np.where( df_test['Embarked'].values == 'Q',1, 2)))\n",
        "df_test['Sex'] = np.where(df_test['Sex'].values == 'male',1,0) \n"
      ],
      "execution_count": 166,
      "outputs": []
    },
    {
      "cell_type": "code",
      "metadata": {
        "id": "yDtMMKXq0JLc"
      },
      "source": [
        "#df_train = df_train[['Survived','Pclass','Sex','Age','SibSp','Parch','Survived','Embarked','Fare']]\n",
        "#df_train = df_train.dropna()\n",
        "#df_test = df_test[['Pclass','Sex','Age','SibSp','Parch','Embarked','Fare']]\n",
        "#df_test = df_test.dropna()"
      ],
      "execution_count": 167,
      "outputs": []
    },
    {
      "cell_type": "code",
      "metadata": {
        "id": "Ziz1AJ1LxgCl",
        "colab": {
          "base_uri": "https://localhost:8080/"
        },
        "outputId": "7015336b-37ae-4eb2-e960-8d9871303461"
      },
      "source": [
        "y = df_train[\"Survived\"]\n",
        "X = df_train.drop(\"Survived\", axis=1)\n",
        "\n",
        "x_train, x_test, y_train, y_test = train_test_split(X, y, test_size=0.3, random_state=42)\n",
        "\n",
        "model = RandomForestClassifier(n_estimators=100, max_depth=5, random_state=1)\n",
        "model.fit(x_train, y_train)\n",
        "predictions = model.predict(df_test)\n",
        "len(predictions)"
      ],
      "execution_count": 171,
      "outputs": [
        {
          "output_type": "execute_result",
          "data": {
            "text/plain": [
              "418"
            ]
          },
          "metadata": {
            "tags": []
          },
          "execution_count": 171
        }
      ]
    },
    {
      "cell_type": "code",
      "metadata": {
        "id": "xSMTQz_RDXM4"
      },
      "source": [
        "output = pd.DataFrame({'PassengerId':test_ids, \"Survived\": predictions,})\n",
        "output.to_csv(\"submission.csv\", index=False)"
      ],
      "execution_count": 172,
      "outputs": []
    },
    {
      "cell_type": "markdown",
      "metadata": {
        "id": "VCQs-i82GCB5"
      },
      "source": [
        "So, at the end of the day I got a score of about 78% on kaggle, I'm definitely not satisfied, I'll continue with this endeavour tomorrow"
      ]
    },
    {
      "cell_type": "code",
      "metadata": {
        "id": "joqpNrDyEYgT"
      },
      "source": [
        ""
      ],
      "execution_count": null,
      "outputs": []
    }
  ]
}